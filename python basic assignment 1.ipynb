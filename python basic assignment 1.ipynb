{
 "cells": [
  {
   "cell_type": "raw",
   "id": "56ca500d-fec4-4330-8510-52b969cd565b",
   "metadata": {},
   "source": [
    "1. In the below elements which of them are values or an expression? eg:- values can be\r\n",
    "integer or string and expressions will be mathematical operators\n",
    "*\n",
    "\"hello\"\n",
    "-87.5\n",
    " -\n",
    " /\n",
    " +\n",
    " 6\n",
    "   "
   ]
  },
  {
   "cell_type": "raw",
   "id": "1638ac48-d71d-4002-80bc-eeaecf56cbae",
   "metadata": {},
   "source": [
    " * is the operator\n",
    " \"hello\" is the value\n",
    " -87.5 is the value\n",
    " - is the operator\n",
    " / is the operator\n",
    " + is the operator\n",
    " 6 is the value"
   ]
  },
  {
   "cell_type": "markdown",
   "id": "03ad9aa3-fe79-45e2-ada0-540fbe405ce9",
   "metadata": {},
   "source": [
    "2. What is the difference between string and variable?"
   ]
  },
  {
   "cell_type": "markdown",
   "id": "5e3c2dbb-317f-43fd-a207-b091d1101209",
   "metadata": {},
   "source": [
    "string = string is the a sequence of characters and it is a data type.\n",
    "variable = Variables are symbols that you can use to store data in a program. in a variable we can store a string, number and other data type."
   ]
  },
  {
   "cell_type": "raw",
   "id": "a26b4bd0-8314-42f4-a7c6-f85e78826d59",
   "metadata": {},
   "source": [
    "  3. Describe three different data types."
   ]
  },
  {
   "cell_type": "raw",
   "id": "13659f85-272c-4ba3-837e-276b56afee3d",
   "metadata": {},
   "source": [
    "Text Type = str \n",
    "Numeric Types = int, float, complex# \r\n",
    "Boolean Type = bolol"
   ]
  },
  {
   "cell_type": "raw",
   "id": "e2d9be27-e205-40c8-b557-9968abb96ba4",
   "metadata": {},
   "source": [
    "4. What is an expression made up of? What do all expressions do?"
   ]
  },
  {
   "cell_type": "raw",
   "id": "647c36dc-d4fb-4fcd-81fb-5999ed45fc71",
   "metadata": {},
   "source": [
    "An expression is a combination of values, variables, operators, and calls to functions. Expressions need to be evaluated.All expression evaluated a single value."
   ]
  },
  {
   "cell_type": "raw",
   "id": "fefb5304-5e8c-438b-a3ac-523b2aafead6",
   "metadata": {},
   "source": [
    "5. This assignment statements, like spam = 10. What is the difference between an\n",
    "expression and a statement?"
   ]
  },
  {
   "cell_type": "raw",
   "id": "bd7204f0-dda1-4119-9f54-ea13c3f11b70",
   "metadata": {},
   "source": [
    "Statements represent an action or command e.g print statements, assignment statements. An expression is a combination of operators, variables, values. Expressions need to be evaluated. An expression is something that can be reduced to a value."
   ]
  },
  {
   "cell_type": "raw",
   "id": "9071e056-7a60-4a7e-9284-cca7fd14c3ae",
   "metadata": {},
   "source": [
    "6. After running the following code, what does the variable bacon contain?\n",
    "bacon = 22\n",
    "bacon + 1"
   ]
  },
  {
   "cell_type": "code",
   "execution_count": 4,
   "id": "73f819b1-cdd9-4fbc-8609-1bb63b13520a",
   "metadata": {},
   "outputs": [
    {
     "name": "stdout",
     "output_type": "stream",
     "text": [
      "22\n"
     ]
    }
   ],
   "source": [
    "bacon = 22\n",
    "print (22)\n",
    "#bacon contain 22"
   ]
  },
  {
   "cell_type": "raw",
   "id": "9a96713f-8faa-4cba-a9a0-b0e231df71d2",
   "metadata": {},
   "source": [
    "7. What should the values of the following two terms be?\n",
    "'spam'+'spamspam'\n",
    "'spam'*3"
   ]
  },
  {
   "cell_type": "code",
   "execution_count": 5,
   "id": "5bc8b0ba-5952-4947-96ce-472b3737d529",
   "metadata": {},
   "outputs": [
    {
     "name": "stdout",
     "output_type": "stream",
     "text": [
      "spamspamspam\n",
      "spamspamspam\n"
     ]
    }
   ],
   "source": [
    "print ('spam'+'spamspam')\n",
    "print ('spam'*3)"
   ]
  },
  {
   "cell_type": "raw",
   "id": "4ebcb4ee-b1de-40cc-9c3d-f95fc810ea4b",
   "metadata": {},
   "source": [
    "8. Why is eggs a valid variable name while 100 is invalid?"
   ]
  },
  {
   "cell_type": "raw",
   "id": "299faf8b-3229-4074-ae83-ce8b3cc7686b",
   "metadata": {},
   "source": [
    "in python we need to follow some rules for declaring the variable name.\n",
    "we can not create a variable name start with any number but it can be string.\n",
    "if we start with a number than it throw an error.\n",
    "\n"
   ]
  },
  {
   "cell_type": "code",
   "execution_count": 7,
   "id": "1dd77270-25bd-4e8b-b1f6-ed18ee6c85a6",
   "metadata": {},
   "outputs": [
    {
     "ename": "SyntaxError",
     "evalue": "cannot assign to literal here. Maybe you meant '==' instead of '='? (956551675.py, line 1)",
     "output_type": "error",
     "traceback": [
      "\u001b[1;36m  Cell \u001b[1;32mIn [7], line 1\u001b[1;36m\u001b[0m\n\u001b[1;33m    100 = \"hari\"\u001b[0m\n\u001b[1;37m    ^\u001b[0m\n\u001b[1;31mSyntaxError\u001b[0m\u001b[1;31m:\u001b[0m cannot assign to literal here. Maybe you meant '==' instead of '='?\n"
     ]
    }
   ],
   "source": [
    "100 = \"hari\"\n",
    "print (100)"
   ]
  },
  {
   "cell_type": "code",
   "execution_count": 8,
   "id": "daa1bef6-bbb6-4ff0-ac1a-83d94be60963",
   "metadata": {},
   "outputs": [
    {
     "name": "stdout",
     "output_type": "stream",
     "text": [
      "abc\n"
     ]
    }
   ],
   "source": [
    "egg = \"abc\"\n",
    "print (egg)"
   ]
  },
  {
   "cell_type": "raw",
   "id": "bfd1d296-9217-4330-a491-1019fb01f710",
   "metadata": {},
   "source": [
    "9. What three functions can be used to get the integer, floating-point number, or string\n",
    "version of a value?"
   ]
  },
  {
   "cell_type": "code",
   "execution_count": 9,
   "id": "36494804-9b40-408f-9481-fe0ee2ee35f5",
   "metadata": {},
   "outputs": [
    {
     "data": {
      "text/plain": [
       "('', 0, 0.0)"
      ]
     },
     "execution_count": 9,
     "metadata": {},
     "output_type": "execute_result"
    }
   ],
   "source": [
    "str() , int() , float()\n"
   ]
  },
  {
   "cell_type": "raw",
   "id": "08bea22f-08c1-4875-8d18-997ca821d615",
   "metadata": {},
   "source": [
    "10. Why does this expression cause an error? How can you fix it?\n",
    "'I have eaten'+ 99 + 'burritos.'"
   ]
  },
  {
   "cell_type": "raw",
   "id": "3a148d8c-d718-4986-8a05-3c5389ca6769",
   "metadata": {},
   "source": [
    "The expression causes an error because 99 is an integer, and only strings can be concatenated to other strings with the + operator. The correct way is 'I have eaten ' + str(99) + ' burritos.'."
   ]
  }
 ],
 "metadata": {
  "kernelspec": {
   "display_name": "Python 3 (ipykernel)",
   "language": "python",
   "name": "python3"
  },
  "language_info": {
   "codemirror_mode": {
    "name": "ipython",
    "version": 3
   },
   "file_extension": ".py",
   "mimetype": "text/x-python",
   "name": "python",
   "nbconvert_exporter": "python",
   "pygments_lexer": "ipython3",
   "version": "3.10.8"
  }
 },
 "nbformat": 4,
 "nbformat_minor": 5
}
